{
 "cells": [
  {
   "cell_type": "code",
   "execution_count": null,
   "id": "f4bee067-2b59-43ef-a8d5-21cd4badc671",
   "metadata": {},
   "outputs": [],
   "source": []
  },
  {
   "cell_type": "markdown",
   "id": "ead0d39d-5dbf-47f3-b77c-85b5c8366d70",
   "metadata": {},
   "source": [
    "## data_acquisition.ipynb\n",
    "\n",
    "\"\"\"\n",
    "### What data_acquisition.ipynb Is (and Isn't) \n",
    "_**data_acquisition.ipynb**_  in the structured pipeline is a conceptual notebook that documents the **manual data download process** - not an actual notebook with executable code for downloading.\n",
    "\n",
    "WHO GHED data cannot be programmatically downloaded through a simple API\n",
    "Note that the WHO database requires manual selection and download through their web interface and these required us going to the **GHED Database**; selecting 12 specific indicators, filtering for African countries only;setting year range 2000-2023 and downloading the CSV  files\n",
    "(though initial country selection was 52, however our final count was 47 after cleaning.  For details, follow the below data acquistion guide....\n",
    "\n",
    "## DATA ACQUISITION GUIDE\n",
    "\n",
    "### WHO GHED Data (Manual Download Process)\n",
    "\n",
    "1. Go to: https://apps.who.int/nha/database\n",
    "2. Click \"Select Indicators\" and choose:\n",
    "   - GHED_CHEGDP_SHA2011\n",
    "   - GHED_CHE_pc_US_SHA2011\n",
    "   - GHED_GGHE-DCHE_SHA2011\n",
    "   - GHED_GGHE-DGGE_SHA2011\n",
    "   - GHED_GGHE-DGDP_SHA2011\n",
    "   - GHED_GGHE-D_pc_US_SHA2011\n",
    "   - GHED_PVT-DCHE_SHA2011\n",
    "   - GHED_PVT-D_pc_US_SHA2011\n",
    "   - GHED_EXTCHE_SHA2011\n",
    "   - GHED_EXT_pc_US_SHA2011\n",
    "   - GHED_OOP_pc_US_SHA2011\n",
    "   - GHED_OOPSCHE_SHA2011\n",
    "3. Under \"Filter,\" select:\n",
    "   - Spatial: Africa (and all sub-regions)\n",
    "   - Time: 2000-2023\n",
    "4. Click \"Apply Filter\" then \"Download\"\n",
    "5. Save files to: data/raw/who_ghed/data/\n",
    "\n",
    "\n",
    "### World Bank Data (Manual Download Process)\n",
    "\n",
    "1. Go to: https://databank.worldbank.org/source/health-nutrition-and-population-statistics\n",
    "2. Select indicators:\n",
    "   - Life expectancy at birth, total (years)\n",
    "   - Mortality rate, infant (per 1,000 live births)\n",
    "   - Immunization, DPT (% of children ages 12-23 months)\n",
    "   - Population, total\n",
    "   - GDP per capita (current US$)\n",
    "3. Under \"Country,\" select \"Africa\" region\n",
    "4. Set year range: 2000-2023\n",
    "5. Click \"Apply Filter\" then \"Download\"\n",
    "6. Save as: data/raw/world_bank/world_bank_health_outcomes_raw.csv\n",
    "\"\"\""
   ]
  },
  {
   "cell_type": "markdown",
   "id": "e9ac157f-f818-4685-8175-01cf1dc13e22",
   "metadata": {},
   "source": []
  },
  {
   "cell_type": "code",
   "execution_count": null,
   "id": "c4d44758-2352-4302-a4e0-268c88f5b1e2",
   "metadata": {},
   "outputs": [],
   "source": []
  }
 ],
 "metadata": {
  "kernelspec": {
   "display_name": "Python 3 (ipykernel)",
   "language": "python",
   "name": "python3"
  },
  "language_info": {
   "codemirror_mode": {
    "name": "ipython",
    "version": 3
   },
   "file_extension": ".py",
   "mimetype": "text/x-python",
   "name": "python",
   "nbconvert_exporter": "python",
   "pygments_lexer": "ipython3",
   "version": "3.13.2"
  }
 },
 "nbformat": 4,
 "nbformat_minor": 5
}
