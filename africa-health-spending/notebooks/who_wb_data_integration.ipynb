{
 "cells": [
  {
   "cell_type": "code",
   "execution_count": null,
   "id": "908bef8d-4c3d-4cc3-bdfd-f9f8f8351b3e",
   "metadata": {},
   "outputs": [],
   "source": []
  },
  {
   "cell_type": "code",
   "execution_count": 2,
   "id": "0bcfc195-b8bf-4694-8674-6194521f47a2",
   "metadata": {},
   "outputs": [],
   "source": [
    "import pandas as pd\n",
    "# Load both datasets\n",
    "who_df = pd.read_csv('unified_african_health_financing.csv')\n",
    "wb_df = pd.read_csv('world_bank_health_outcomes.csv')\n",
    "\n",
    "# Standardize country name column\n",
    "who_df = who_df.rename(columns={'CountryName': 'Country Name'})\n",
    "\n",
    "# Merge\n",
    "final_df = pd.merge(who_df, wb_df, on=['Country Name', 'Year'], how='left')\n",
    "\n",
    "# Save\n",
    "final_df.to_csv('african_health_spending_outcomes.csv', index=False)"
   ]
  },
  {
   "cell_type": "code",
   "execution_count": null,
   "id": "387eb2aa-abcb-4fbe-9488-7b0c66521d18",
   "metadata": {},
   "outputs": [],
   "source": []
  }
 ],
 "metadata": {
  "kernelspec": {
   "display_name": "Python 3 (ipykernel)",
   "language": "python",
   "name": "python3"
  },
  "language_info": {
   "codemirror_mode": {
    "name": "ipython",
    "version": 3
   },
   "file_extension": ".py",
   "mimetype": "text/x-python",
   "name": "python",
   "nbconvert_exporter": "python",
   "pygments_lexer": "ipython3",
   "version": "3.13.2"
  }
 },
 "nbformat": 4,
 "nbformat_minor": 5
}
